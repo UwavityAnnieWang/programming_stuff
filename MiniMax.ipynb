{
 "cells": [
  {
   "cell_type": "code",
   "execution_count": null,
   "id": "0d136069",
   "metadata": {},
   "outputs": [],
   "source": [
    "import pygame\n",
    "from queue import PriorityQueue\n",
    "\n"
   ]
  },
  {
   "cell_type": "code",
   "execution_count": null,
   "id": "d467e632",
   "metadata": {},
   "outputs": [],
   "source": [
    "SQUARE_WIDTH = 25\n",
    "ROWS_COLUMNS = 50\n",
    "WIN = pygame.display.set_mode((SQUARE_WIDTH * ROWS_COLUMNS, SQUARE_WIDTH * ROWS_COLUMNS))\n",
    "pygame.display.set_caption(\"A* Path Finding Algorithm\")\n",
    "#color used to keep track of nodes \n",
    "RED = (255, 0, 0)\n",
    "GREEN = (0,255, 0)               # checked\n",
    "BLUE = (0, 255, 0)\n",
    "YELLOW = (255,255, 0)\n",
    "WHITE = (255,255,255)            # default\n",
    "BLACK = (0,0,0)                  # barriers\n",
    "PURPLE = (128,0,128)             # path\n",
    "ORANGE = (255,165,0)             # start\n",
    "GREY = (128,128,128)\n",
    "TURQUOISE = (64,224,208)         # end\n",
    "\n"
   ]
  },
  {
   "cell_type": "code",
   "execution_count": null,
   "id": "7310230e",
   "metadata": {},
   "outputs": [],
   "source": []
  }
 ],
 "metadata": {
  "kernelspec": {
   "display_name": "Python 3 (ipykernel)",
   "language": "python",
   "name": "python3"
  },
  "language_info": {
   "codemirror_mode": {
    "name": "ipython",
    "version": 3
   },
   "file_extension": ".py",
   "mimetype": "text/x-python",
   "name": "python",
   "nbconvert_exporter": "python",
   "pygments_lexer": "ipython3",
   "version": "3.7.11"
  }
 },
 "nbformat": 4,
 "nbformat_minor": 5
}
