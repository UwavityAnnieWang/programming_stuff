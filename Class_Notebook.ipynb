{
 "cells": [
  {
   "cell_type": "code",
   "execution_count": 1,
   "id": "4d77af50",
   "metadata": {},
   "outputs": [
    {
     "name": "stderr",
     "output_type": "stream",
     "text": [
      "Using TensorFlow backend.\n"
     ]
    }
   ],
   "source": [
    "import tensorflow as tf\n",
    "#works \n",
    "import keras as k\n",
    "#idk how this will work lmao \n"
   ]
  },
  {
   "cell_type": "code",
   "execution_count": 21,
   "id": "a6177f24",
   "metadata": {},
   "outputs": [
    {
     "name": "stdout",
     "output_type": "stream",
     "text": [
      "['bob', 'loves', 'new', 'wave', 'computers']\n",
      "['Bob', 'loves', 'NEW', 'cOMPutERS']\n",
      "[881, 840, 943, 942, 55, 123, 815, 860, 737, 884, 784, 951, 627, 857, 917, 323, 244, 13, 177, 353, 237, 3, 560, 354, 216, 236, 400, 353, 671, 85, 786, 665, 447, 271, 784, 942, 146, 351, 933, 132, 771, 484, 145, 562, 623, 473, 89, 784, 482, 376, 706, 447, 378, 672, 484, 595, 298, 354, 916, 663, 124, 415, 67, 700, 126, 254, 655, 432, 969, 75, 477, 248, 347, 139, 855, 654, 890, 399, 71, 723, 550, 525, 247, 486, 177, 359, 361, 305, 183, 902, 673, 903, 967, 857, 839, 555, 649, 541, 10, 592, 648]\n"
     ]
    }
   ],
   "source": [
    "from functools import reduce \n",
    "import random \n",
    "list_1 = [\"Bob\", \"loves\", \"NEW\", \"wAve\", \"cOMPutERS\"]\n",
    "words = list(map(lambda x: x.lower(), list_1))\n",
    "#i was dumb smh need to remember to use lambdas \n",
    "print(words)\n",
    "things = list(filter(lambda x: len(x)!=4, list_1))\n",
    "print(things)\n",
    "numbers = [random.randint(1, 1001) for x in range(0, 101)]\n",
    "print(numbers)\n",
    "#find_max = reduce(, numbers)\n",
    "\n",
    "\n",
    "\n",
    "\n"
   ]
  },
  {
   "cell_type": "code",
   "execution_count": null,
   "id": "c1e2113b",
   "metadata": {},
   "outputs": [],
   "source": []
  }
 ],
 "metadata": {
  "kernelspec": {
   "display_name": "Python 3 (ipykernel)",
   "language": "python",
   "name": "python3"
  },
  "language_info": {
   "codemirror_mode": {
    "name": "ipython",
    "version": 3
   },
   "file_extension": ".py",
   "mimetype": "text/x-python",
   "name": "python",
   "nbconvert_exporter": "python",
   "pygments_lexer": "ipython3",
   "version": "3.8.11"
  }
 },
 "nbformat": 4,
 "nbformat_minor": 5
}
