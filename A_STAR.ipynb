{
 "cells": [
  {
   "cell_type": "code",
   "execution_count": 1,
   "id": "3f19ff74",
   "metadata": {},
   "outputs": [
    {
     "name": "stdout",
     "output_type": "stream",
     "text": [
      "pygame 2.0.2 (SDL 2.0.16, Python 3.7.11)\n",
      "Hello from the pygame community. https://www.pygame.org/contribute.html\n"
     ]
    }
   ],
   "source": [
    "import pygame"
   ]
  },
  {
   "cell_type": "code",
   "execution_count": 6,
   "id": "650fde09",
   "metadata": {},
   "outputs": [],
   "source": [
    "SQUARE_WIDTH = 25\n",
    "ROWS_COLUMNS = 50\n",
    "WIN = pygame.display.set_mode((SQUARE_WIDTH * ROWS_COLUMNS, SQUARE_WIDTH * ROWS_COLUMNS))\n",
    "pygame.display.set_caption(\"A* Path Finding Algorithm\")\n",
    "\n",
    "RED = (255, 0, 0)\n",
    "GREEN = (0,255, 0)               # checked\n",
    "BLUE = (0, 255, 0)\n",
    "YELLOW = (255,255, 0)\n",
    "WHITE = (255,255,255)            # default\n",
    "BLACK = (0,0,0)                  # barriers\n",
    "PURPLE = (128,0,128)             # path\n",
    "ORANGE = (255,165,0)             # start\n",
    "GREY = (128,128,128)\n",
    "TURQUOISE = (64,224,208)         # end\n",
    "\n"
   ]
  },
  {
   "cell_type": "code",
   "execution_count": 7,
   "id": "329dc8b7",
   "metadata": {},
   "outputs": [],
   "source": [
    "class Node:\n",
    "    def __init__(self, row, col):\n",
    "        self.row = row\n",
    "        self.col = col\n",
    "        self.color = WHITE\n",
    "        self.neighbors = []\n",
    "        self.g_score = float(\"inf\")\n",
    "        self.f_score = float(\"inf\")\n",
    "        self.h_score = float(\"inf\")\n",
    "        self.came_from = None\n",
    "    def get_pos(self):\n",
    "        return self.row, self.col\n",
    "    # check the state of the Spot\n",
    "    # has this spot already been considered as we look for the shortest path.\n",
    "    # closed squares will be drawn in red\n",
    "    def is_closed(self):\n",
    "        return self.color == RED\n",
    "\n",
    "    def is_open(self):\n",
    "        return self.color == GREEN\n",
    "\n",
    "    def is_barrier(self):\n",
    "        return self.color == BLACK\n",
    "\n",
    "    def is_start(self):\n",
    "        return self.color == ORANGE\n",
    "\n",
    "    def is_end(self):\n",
    "        return self.color == TURQUOISE\n",
    "\n",
    "    def reset(self):\n",
    "        self.color = WHITE\n",
    "\n",
    "    def make_closed(self):\n",
    "        self.color = RED\n",
    "\n",
    "    def make_open(self):\n",
    "        self.color = GREEN\n",
    "\n",
    "    def make_barrier(self):\n",
    "        self.color = BLACK\n",
    "\n",
    "    def make_start(self):\n",
    "        self.color = ORANGE\n",
    "\n",
    "    def make_end(self):\n",
    "        self.color = TURQUOISE\n",
    "\n",
    "    def make_path(self):\n",
    "        self.color = PURPLE\n",
    "    def draw(self):\n",
    "        pygame.draw.rect(WIN, self.color, (self.row * SQUARE_WIDTH, self.col * SQUARE_WIDTH, SQUARE_WIDTH, SQUARE_WIDTH))\n",
    "\n",
    "\n"
   ]
  },
  {
   "cell_type": "code",
   "execution_count": null,
   "id": "f9ca0e42",
   "metadata": {},
   "outputs": [],
   "source": []
  }
 ],
 "metadata": {
  "kernelspec": {
   "display_name": "Python 3 (ipykernel)",
   "language": "python",
   "name": "python3"
  },
  "language_info": {
   "codemirror_mode": {
    "name": "ipython",
    "version": 3
   },
   "file_extension": ".py",
   "mimetype": "text/x-python",
   "name": "python",
   "nbconvert_exporter": "python",
   "pygments_lexer": "ipython3",
   "version": "3.7.11"
  }
 },
 "nbformat": 4,
 "nbformat_minor": 5
}
