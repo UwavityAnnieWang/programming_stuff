{
 "cells": [
  {
   "cell_type": "code",
   "execution_count": 16,
   "id": "b54e0634",
   "metadata": {},
   "outputs": [
    {
     "data": {
      "text/html": [
       "<div>\n",
       "<style scoped>\n",
       "    .dataframe tbody tr th:only-of-type {\n",
       "        vertical-align: middle;\n",
       "    }\n",
       "\n",
       "    .dataframe tbody tr th {\n",
       "        vertical-align: top;\n",
       "    }\n",
       "\n",
       "    .dataframe thead th {\n",
       "        text-align: right;\n",
       "    }\n",
       "</style>\n",
       "<table border=\"1\" class=\"dataframe\">\n",
       "  <thead>\n",
       "    <tr style=\"text-align: right;\">\n",
       "      <th></th>\n",
       "      <th>Rank</th>\n",
       "      <th>Team/NOC</th>\n",
       "      <th>Gold</th>\n",
       "      <th>Silver</th>\n",
       "      <th>Bronze</th>\n",
       "      <th>Total</th>\n",
       "      <th>Rank by Total</th>\n",
       "    </tr>\n",
       "  </thead>\n",
       "  <tbody>\n",
       "    <tr>\n",
       "      <th>0</th>\n",
       "      <td>1</td>\n",
       "      <td>United States of America</td>\n",
       "      <td>39</td>\n",
       "      <td>41</td>\n",
       "      <td>33</td>\n",
       "      <td>113</td>\n",
       "      <td>1</td>\n",
       "    </tr>\n",
       "    <tr>\n",
       "      <th>1</th>\n",
       "      <td>2</td>\n",
       "      <td>People's Republic of China</td>\n",
       "      <td>38</td>\n",
       "      <td>32</td>\n",
       "      <td>18</td>\n",
       "      <td>88</td>\n",
       "      <td>2</td>\n",
       "    </tr>\n",
       "    <tr>\n",
       "      <th>2</th>\n",
       "      <td>3</td>\n",
       "      <td>Japan</td>\n",
       "      <td>27</td>\n",
       "      <td>14</td>\n",
       "      <td>17</td>\n",
       "      <td>58</td>\n",
       "      <td>5</td>\n",
       "    </tr>\n",
       "    <tr>\n",
       "      <th>3</th>\n",
       "      <td>4</td>\n",
       "      <td>Great Britain</td>\n",
       "      <td>22</td>\n",
       "      <td>21</td>\n",
       "      <td>22</td>\n",
       "      <td>65</td>\n",
       "      <td>4</td>\n",
       "    </tr>\n",
       "    <tr>\n",
       "      <th>4</th>\n",
       "      <td>5</td>\n",
       "      <td>ROC</td>\n",
       "      <td>20</td>\n",
       "      <td>28</td>\n",
       "      <td>23</td>\n",
       "      <td>71</td>\n",
       "      <td>3</td>\n",
       "    </tr>\n",
       "  </tbody>\n",
       "</table>\n",
       "</div>"
      ],
      "text/plain": [
       "   Rank                    Team/NOC  Gold  Silver  Bronze  Total  \\\n",
       "0     1    United States of America    39      41      33    113   \n",
       "1     2  People's Republic of China    38      32      18     88   \n",
       "2     3                       Japan    27      14      17     58   \n",
       "3     4               Great Britain    22      21      22     65   \n",
       "4     5                         ROC    20      28      23     71   \n",
       "\n",
       "   Rank by Total  \n",
       "0              1  \n",
       "1              2  \n",
       "2              5  \n",
       "3              4  \n",
       "4              3  "
      ]
     },
     "execution_count": 16,
     "metadata": {},
     "output_type": "execute_result"
    }
   ],
   "source": [
    "import pandas as pd \n",
    "#could just import by path but i was lazy \n",
    "df = pd.read_csv('Medals.csv')\n",
    "df.head()"
   ]
  },
  {
   "cell_type": "code",
   "execution_count": 17,
   "id": "dfe87238",
   "metadata": {},
   "outputs": [
    {
     "name": "stdout",
     "output_type": "stream",
     "text": [
      "Index(['Rank', 'Team/NOC', 'Gold', 'Silver', 'Bronze', 'Total',\n",
      "       'Rank by Total'],\n",
      "      dtype='object')\n"
     ]
    }
   ],
   "source": [
    "print(df.columns)"
   ]
  },
  {
   "cell_type": "code",
   "execution_count": 18,
   "id": "88a7b19d",
   "metadata": {},
   "outputs": [
    {
     "name": "stdout",
     "output_type": "stream",
     "text": [
      "['United States of America', \"People's Republic of China\", 'Japan', 'Great Britain', 'ROC', 'Australia', 'Netherlands', 'France', 'Germany', 'Italy', 'Canada', 'Brazil', 'New Zealand', 'Cuba', 'Hungary', 'Republic of Korea', 'Poland', 'Czech Republic', 'Kenya', 'Norway', 'Jamaica', 'Spain', 'Sweden', 'Switzerland', 'Denmark', 'Croatia', 'Islamic Republic of Iran', 'Serbia', 'Belgium', 'Bulgaria', 'Slovenia', 'Uzbekistan', 'Georgia', 'Chinese Taipei', 'Turkey', 'Greece', 'Uganda', 'Ecuador', 'Ireland', 'Israel', 'Qatar', 'Bahamas', 'Kosovo', 'Ukraine', 'Belarus', 'Romania', 'Venezuela', 'India', 'Hong Kong, China', 'Philippines', 'Slovakia', 'South Africa', 'Austria', 'Egypt', 'Indonesia', 'Ethiopia', 'Portugal', 'Tunisia', 'Estonia', 'Fiji', 'Latvia', 'Thailand', 'Bermuda', 'Morocco', 'Puerto Rico', 'Colombia', 'Azerbaijan', 'Dominican Republic', 'Armenia', 'Kyrgyzstan', 'Mongolia', 'Argentina', 'San Marino', 'Jordan', 'Malaysia', 'Nigeria', 'Bahrain', 'Saudi Arabia', 'Lithuania', 'North Macedonia', 'Namibia', 'Turkmenistan', 'Kazakhstan', 'Mexico', 'Finland', 'Botswana', 'Burkina Faso', \"Côte d'Ivoire\", 'Ghana', 'Grenada', 'Kuwait', 'Republic of Moldova', 'Syrian Arab Republic']\n",
      "['Argentina', 'Armenia', 'Australia', 'Austria', 'Azerbaijan', 'Bahamas', 'Bahrain', 'Belarus', 'Belgium', 'Bermuda', 'Botswana', 'Brazil', 'Bulgaria', 'Burkina Faso', 'Canada', 'Chinese Taipei', 'Colombia', 'Croatia', 'Cuba', 'Czech Republic', \"Côte d'Ivoire\", 'Denmark', 'Dominican Republic', 'Ecuador', 'Egypt', 'Estonia', 'Ethiopia', 'Fiji', 'Finland', 'France', 'Georgia', 'Germany', 'Ghana', 'Great Britain', 'Greece', 'Grenada', 'Hong Kong, China', 'Hungary', 'India', 'Indonesia', 'Ireland', 'Islamic Republic of Iran', 'Israel', 'Italy', 'Jamaica', 'Japan', 'Jordan', 'Kazakhstan', 'Kenya', 'Kosovo', 'Kuwait', 'Kyrgyzstan', 'Latvia', 'Lithuania', 'Malaysia', 'Mexico', 'Mongolia', 'Morocco', 'Namibia', 'Netherlands', 'New Zealand', 'Nigeria', 'North Macedonia', 'Norway', \"People's Republic of China\", 'Philippines', 'Poland', 'Portugal', 'Puerto Rico', 'Qatar', 'ROC', 'Republic of Korea', 'Republic of Moldova', 'Romania', 'San Marino', 'Saudi Arabia', 'Serbia', 'Slovakia', 'Slovenia', 'South Africa', 'Spain', 'Sweden', 'Switzerland', 'Syrian Arab Republic', 'Thailand', 'Tunisia', 'Turkey', 'Turkmenistan', 'Uganda', 'Ukraine', 'United States of America', 'Uzbekistan', 'Venezuela']\n",
      "[['United States of America', 113], [\"People's Republic of China\", 88], ['ROC', 71], ['Great Britain', 65], ['Japan', 58], ['Australia', 46], ['Italy', 40], ['Germany', 37], ['Netherlands', 36], ['France', 33], ['Canada', 24], ['Brazil', 21], ['New Zealand', 20], ['Hungary', 20], ['Republic of Korea', 20], ['Ukraine', 19], ['Spain', 17], ['Cuba', 15], ['Poland', 14], ['Switzerland', 13], ['Turkey', 13], ['Chinese Taipei', 12], ['Czech Republic', 11], ['Denmark', 11], ['Kenya', 10], ['Jamaica', 9], ['Sweden', 9], ['Serbia', 9], ['Norway', 8], ['Croatia', 8], ['Georgia', 8], ['Kazakhstan', 8], ['Islamic Republic of Iran', 7], ['Belgium', 7], ['Belarus', 7], ['India', 7], ['Austria', 7], ['Azerbaijan', 7], ['Bulgaria', 6], ['Hong Kong, China', 6], ['Egypt', 6], ['Slovenia', 5], ['Uzbekistan', 5], ['Indonesia', 5], ['Colombia', 5], ['Dominican Republic', 5], ['Greece', 4], ['Uganda', 4], ['Ireland', 4], ['Israel', 4], ['Romania', 4], ['Venezuela', 4], ['Philippines', 4], ['Slovakia', 4], ['Ethiopia', 4], ['Portugal', 4], ['Armenia', 4], ['Mongolia', 4], ['Mexico', 4], ['Ecuador', 3], ['Qatar', 3], ['South Africa', 3], ['Kyrgyzstan', 3], ['Argentina', 3], ['San Marino', 3], ['Bahamas', 2], ['Kosovo', 2], ['Tunisia', 2], ['Estonia', 2], ['Fiji', 2], ['Latvia', 2], ['Thailand', 2], ['Jordan', 2], ['Malaysia', 2], ['Nigeria', 2], ['Finland', 2], ['Bermuda', 1], ['Morocco', 1], ['Puerto Rico', 1], ['Bahrain', 1], ['Saudi Arabia', 1], ['Lithuania', 1], ['North Macedonia', 1], ['Namibia', 1], ['Turkmenistan', 1], ['Botswana', 1], ['Burkina Faso', 1], [\"Côte d'Ivoire\", 1], ['Ghana', 1], ['Grenada', 1], ['Kuwait', 1], ['Republic of Moldova', 1], ['Syrian Arab Republic', 1]]\n"
     ]
    }
   ],
   "source": [
    "import numpy as np\n",
    "\n",
    "medals = np.array(df).tolist()\n",
    "#print(medals)\n",
    "\n",
    "teams = [team[1] for team in medals]\n",
    "print(teams)\n",
    "\n",
    "teams = sorted([team[1] for team in medals])\n",
    "print(teams)\n",
    "\n",
    "#have to pass lambda if u do something else ig \n",
    "#sort by medal count oough \n",
    "#teams = (lambda etc )\n",
    "#ig can script with spyder \n",
    "sorted_by_medals = sorted([[team[1], team[5]] for team in medals], key=lambda num: num[1], reverse = True)\n",
    "print(sorted_by_medals)\n"
   ]
  },
  {
   "cell_type": "code",
   "execution_count": 19,
   "id": "7911395b",
   "metadata": {
    "scrolled": true
   },
   "outputs": [
    {
     "name": "stdout",
     "output_type": "stream",
     "text": [
      "                      Team/NOC\n",
      "0     United States of America\n",
      "1   People's Republic of China\n",
      "2                        Japan\n",
      "3                Great Britain\n",
      "4                          ROC\n",
      "..                         ...\n",
      "88                       Ghana\n",
      "89                     Grenada\n",
      "90                      Kuwait\n",
      "91         Republic of Moldova\n",
      "92        Syrian Arab Republic\n",
      "\n",
      "[93 rows x 1 columns]\n"
     ]
    }
   ],
   "source": [
    "thing = pd.read_csv('Medals.csv', usecols = [\"Team/NOC\"])\n",
    "print(thing)\n",
    "#im stupid \n",
    "\n"
   ]
  },
  {
   "cell_type": "code",
   "execution_count": 28,
   "id": "561d7fb0",
   "metadata": {},
   "outputs": [
    {
     "name": "stdout",
     "output_type": "stream",
     "text": [
      "['United States of America', \"People's Republic of China\", 'Japan', 'Great Britain', 'ROC']\n",
      "\n",
      "[\"People's Republic of China\", 'Japan', 'Great Britain', 'Australia', 'Canada', 'Brazil', 'New Zealand', 'Cuba', 'Republic of Korea', 'Norway', 'Jamaica', 'Islamic Republic of Iran', 'Serbia', 'Belgium', 'Bulgaria', 'Slovenia', 'Uzbekistan', 'Greece', 'Uganda', 'Ecuador', 'Ireland', 'Israel', 'Qatar', 'Bahamas', 'Kosovo', 'Estonia', 'Fiji', 'Latvia', 'Thailand', 'Bermuda', 'Morocco', 'Puerto Rico']\n",
      "\n"
     ]
    },
    {
     "ename": "KeyError",
     "evalue": "'Gold'",
     "output_type": "error",
     "traceback": [
      "\u001b[0;31m---------------------------------------------------------------------------\u001b[0m",
      "\u001b[0;31mKeyError\u001b[0m                                  Traceback (most recent call last)",
      "\u001b[0;32m~/opt/anaconda3/lib/python3.8/site-packages/pandas/core/indexes/base.py\u001b[0m in \u001b[0;36mget_loc\u001b[0;34m(self, key, method, tolerance)\u001b[0m\n\u001b[1;32m   3079\u001b[0m             \u001b[0;32mtry\u001b[0m\u001b[0;34m:\u001b[0m\u001b[0;34m\u001b[0m\u001b[0;34m\u001b[0m\u001b[0m\n\u001b[0;32m-> 3080\u001b[0;31m                 \u001b[0;32mreturn\u001b[0m \u001b[0mself\u001b[0m\u001b[0;34m.\u001b[0m\u001b[0m_engine\u001b[0m\u001b[0;34m.\u001b[0m\u001b[0mget_loc\u001b[0m\u001b[0;34m(\u001b[0m\u001b[0mcasted_key\u001b[0m\u001b[0;34m)\u001b[0m\u001b[0;34m\u001b[0m\u001b[0;34m\u001b[0m\u001b[0m\n\u001b[0m\u001b[1;32m   3081\u001b[0m             \u001b[0;32mexcept\u001b[0m \u001b[0mKeyError\u001b[0m \u001b[0;32mas\u001b[0m \u001b[0merr\u001b[0m\u001b[0;34m:\u001b[0m\u001b[0;34m\u001b[0m\u001b[0;34m\u001b[0m\u001b[0m\n",
      "\u001b[0;32mpandas/_libs/index.pyx\u001b[0m in \u001b[0;36mpandas._libs.index.IndexEngine.get_loc\u001b[0;34m()\u001b[0m\n",
      "\u001b[0;32mpandas/_libs/index.pyx\u001b[0m in \u001b[0;36mpandas._libs.index.IndexEngine.get_loc\u001b[0;34m()\u001b[0m\n",
      "\u001b[0;32mpandas/_libs/hashtable_class_helper.pxi\u001b[0m in \u001b[0;36mpandas._libs.hashtable.PyObjectHashTable.get_item\u001b[0;34m()\u001b[0m\n",
      "\u001b[0;32mpandas/_libs/hashtable_class_helper.pxi\u001b[0m in \u001b[0;36mpandas._libs.hashtable.PyObjectHashTable.get_item\u001b[0;34m()\u001b[0m\n",
      "\u001b[0;31mKeyError\u001b[0m: 'Gold'",
      "\nThe above exception was the direct cause of the following exception:\n",
      "\u001b[0;31mKeyError\u001b[0m                                  Traceback (most recent call last)",
      "\u001b[0;32m<ipython-input-28-ae0103af10de>\u001b[0m in \u001b[0;36m<module>\u001b[0;34m\u001b[0m\n\u001b[1;32m      6\u001b[0m \u001b[0mprint\u001b[0m\u001b[0;34m(\u001b[0m\u001b[0mmore_gold_than_silver\u001b[0m\u001b[0;34m)\u001b[0m\u001b[0;34m\u001b[0m\u001b[0;34m\u001b[0m\u001b[0m\n\u001b[1;32m      7\u001b[0m \u001b[0mprint\u001b[0m\u001b[0;34m(\u001b[0m\u001b[0;34m)\u001b[0m\u001b[0;34m\u001b[0m\u001b[0;34m\u001b[0m\u001b[0m\n\u001b[0;32m----> 8\u001b[0;31m \u001b[0mtotal_number_of_gold\u001b[0m \u001b[0;34m=\u001b[0m \u001b[0mthing\u001b[0m\u001b[0;34m[\u001b[0m\u001b[0;34m'Gold'\u001b[0m\u001b[0;34m]\u001b[0m\u001b[0;34m.\u001b[0m\u001b[0msum\u001b[0m\u001b[0;34m(\u001b[0m\u001b[0;34m)\u001b[0m\u001b[0;34m\u001b[0m\u001b[0;34m\u001b[0m\u001b[0m\n\u001b[0m\u001b[1;32m      9\u001b[0m \u001b[0mprint\u001b[0m\u001b[0;34m(\u001b[0m\u001b[0mtotal_number_of_gold\u001b[0m\u001b[0;34m)\u001b[0m\u001b[0;34m\u001b[0m\u001b[0;34m\u001b[0m\u001b[0m\n",
      "\u001b[0;32m~/opt/anaconda3/lib/python3.8/site-packages/pandas/core/frame.py\u001b[0m in \u001b[0;36m__getitem__\u001b[0;34m(self, key)\u001b[0m\n\u001b[1;32m   3022\u001b[0m             \u001b[0;32mif\u001b[0m \u001b[0mself\u001b[0m\u001b[0;34m.\u001b[0m\u001b[0mcolumns\u001b[0m\u001b[0;34m.\u001b[0m\u001b[0mnlevels\u001b[0m \u001b[0;34m>\u001b[0m \u001b[0;36m1\u001b[0m\u001b[0;34m:\u001b[0m\u001b[0;34m\u001b[0m\u001b[0;34m\u001b[0m\u001b[0m\n\u001b[1;32m   3023\u001b[0m                 \u001b[0;32mreturn\u001b[0m \u001b[0mself\u001b[0m\u001b[0;34m.\u001b[0m\u001b[0m_getitem_multilevel\u001b[0m\u001b[0;34m(\u001b[0m\u001b[0mkey\u001b[0m\u001b[0;34m)\u001b[0m\u001b[0;34m\u001b[0m\u001b[0;34m\u001b[0m\u001b[0m\n\u001b[0;32m-> 3024\u001b[0;31m             \u001b[0mindexer\u001b[0m \u001b[0;34m=\u001b[0m \u001b[0mself\u001b[0m\u001b[0;34m.\u001b[0m\u001b[0mcolumns\u001b[0m\u001b[0;34m.\u001b[0m\u001b[0mget_loc\u001b[0m\u001b[0;34m(\u001b[0m\u001b[0mkey\u001b[0m\u001b[0;34m)\u001b[0m\u001b[0;34m\u001b[0m\u001b[0;34m\u001b[0m\u001b[0m\n\u001b[0m\u001b[1;32m   3025\u001b[0m             \u001b[0;32mif\u001b[0m \u001b[0mis_integer\u001b[0m\u001b[0;34m(\u001b[0m\u001b[0mindexer\u001b[0m\u001b[0;34m)\u001b[0m\u001b[0;34m:\u001b[0m\u001b[0;34m\u001b[0m\u001b[0;34m\u001b[0m\u001b[0m\n\u001b[1;32m   3026\u001b[0m                 \u001b[0mindexer\u001b[0m \u001b[0;34m=\u001b[0m \u001b[0;34m[\u001b[0m\u001b[0mindexer\u001b[0m\u001b[0;34m]\u001b[0m\u001b[0;34m\u001b[0m\u001b[0;34m\u001b[0m\u001b[0m\n",
      "\u001b[0;32m~/opt/anaconda3/lib/python3.8/site-packages/pandas/core/indexes/base.py\u001b[0m in \u001b[0;36mget_loc\u001b[0;34m(self, key, method, tolerance)\u001b[0m\n\u001b[1;32m   3080\u001b[0m                 \u001b[0;32mreturn\u001b[0m \u001b[0mself\u001b[0m\u001b[0;34m.\u001b[0m\u001b[0m_engine\u001b[0m\u001b[0;34m.\u001b[0m\u001b[0mget_loc\u001b[0m\u001b[0;34m(\u001b[0m\u001b[0mcasted_key\u001b[0m\u001b[0;34m)\u001b[0m\u001b[0;34m\u001b[0m\u001b[0;34m\u001b[0m\u001b[0m\n\u001b[1;32m   3081\u001b[0m             \u001b[0;32mexcept\u001b[0m \u001b[0mKeyError\u001b[0m \u001b[0;32mas\u001b[0m \u001b[0merr\u001b[0m\u001b[0;34m:\u001b[0m\u001b[0;34m\u001b[0m\u001b[0;34m\u001b[0m\u001b[0m\n\u001b[0;32m-> 3082\u001b[0;31m                 \u001b[0;32mraise\u001b[0m \u001b[0mKeyError\u001b[0m\u001b[0;34m(\u001b[0m\u001b[0mkey\u001b[0m\u001b[0;34m)\u001b[0m \u001b[0;32mfrom\u001b[0m \u001b[0merr\u001b[0m\u001b[0;34m\u001b[0m\u001b[0;34m\u001b[0m\u001b[0m\n\u001b[0m\u001b[1;32m   3083\u001b[0m \u001b[0;34m\u001b[0m\u001b[0m\n\u001b[1;32m   3084\u001b[0m         \u001b[0;32mif\u001b[0m \u001b[0mtolerance\u001b[0m \u001b[0;32mis\u001b[0m \u001b[0;32mnot\u001b[0m \u001b[0;32mNone\u001b[0m\u001b[0;34m:\u001b[0m\u001b[0;34m\u001b[0m\u001b[0;34m\u001b[0m\u001b[0m\n",
      "\u001b[0;31mKeyError\u001b[0m: 'Gold'"
     ]
    }
   ],
   "source": [
    "thing = pd.read_csv('Medals.csv', usecols = [\"Total\"])\n",
    "more_than_fifty = [team[1] for team in medals if team[5]>=50]\n",
    "print(more_than_fifty)\n",
    "print()\n",
    "more_gold_than_silver = [team[1] for team in medals if team[2]>team[3]]\n",
    "print(more_gold_than_silver)\n",
    "print()\n",
    "total_number_of_gold = thing['Gold'].sum()\n",
    "print(total_number_of_gold)"
   ]
  },
  {
   "cell_type": "markdown",
   "id": "8b5563d2",
   "metadata": {},
   "source": []
  }
 ],
 "metadata": {
  "kernelspec": {
   "display_name": "Python 3 (ipykernel)",
   "language": "python",
   "name": "python3"
  },
  "language_info": {
   "codemirror_mode": {
    "name": "ipython",
    "version": 3
   },
   "file_extension": ".py",
   "mimetype": "text/x-python",
   "name": "python",
   "nbconvert_exporter": "python",
   "pygments_lexer": "ipython3",
   "version": "3.8.11"
  }
 },
 "nbformat": 4,
 "nbformat_minor": 5
}
