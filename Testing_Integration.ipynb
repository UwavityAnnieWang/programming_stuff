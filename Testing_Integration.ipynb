{
 "cells": [
  {
   "cell_type": "code",
   "execution_count": 21,
   "id": "ea573b4f",
   "metadata": {},
   "outputs": [],
   "source": [
    "class Term:\n",
    "    import math \n",
    "    def __init__(self, coefficient, power):\n",
    "        self.coefficient = coefficient\n",
    "        self.power = power\n",
    "    \n",
    "    def integration(self):\n",
    "        new_coeff = self.coefficient/(self.power+1)\n",
    "        new_pow = self.power + 1\n",
    "        new_term = Term(new_coeff, new_pow)\n",
    "        return new_term\n",
    "    #evaluate term\n",
    "    def evaluate(self, number):\n",
    "        import math \n",
    "        return self.coefficient*(math.pow(number, self.power))\n",
    "    "
   ]
  },
  {
   "cell_type": "code",
   "execution_count": 22,
   "id": "028e87f8",
   "metadata": {},
   "outputs": [
    {
     "name": "stdout",
     "output_type": "stream",
     "text": [
      "2\n",
      "1.0\n"
     ]
    }
   ],
   "source": [
    "\n",
    "thing = Term(1,1)\n",
    "print(thing.integration().power)\n",
    "print(thing.evaluate(1))"
   ]
  },
  {
   "cell_type": "code",
   "execution_count": 90,
   "id": "8a012d39",
   "metadata": {},
   "outputs": [],
   "source": [
    "class Equation:\n",
    "    def __init__(self, terms):\n",
    "        self.terms = terms\n",
    "    def Integrate(self, a, b):\n",
    "        new_list_1 = [x.integration().evaluate(a) for x in self.terms]\n",
    "        new_list_2 = [x.integration().evaluate(b) for x in self.terms]\n",
    "        new_list_3 = [new_list_2[x]-new_list_1[x] for x in range(len(self.terms))]\n",
    "        return new_list_3\n",
    "    \n",
    "    \n",
    "    def Integrate_Rect(self, a, b, num_rectangles):\n",
    "        import numpy\n",
    "        #can't take the area of rectangle at b because that is outside the range\n",
    "        interval = numpy.arange(a, b, ((b-a)/num_rectangles))\n",
    "        \n",
    "        list_of_intervals = []\n",
    "        \n",
    "        \n",
    "        for x in self.terms:\n",
    "            rectangle_sum = 0\n",
    "            for y in interval:\n",
    "                \n",
    "                \n",
    "                \n",
    "                rectangle_sum = rectangle_sum + x.evaluate(y)*x.integration().evaluate(y)\n",
    "            list_of_intervals.append(rectangle_sum)\n",
    "        return list_of_intervals\n",
    "                \n",
    "        \n",
    "                \n",
    "            \n",
    "                \n",
    "                \n",
    "            \n",
    "        \n",
    "        #basically the idea will be to \n",
    "        \n",
    "        #evaluate f(x) for each value \n",
    "        \n",
    "            \n",
    "        \n",
    "        \n",
    "\n",
    "    \n",
    "        \n",
    "        \n",
    "        \n"
   ]
  },
  {
   "cell_type": "code",
   "execution_count": 91,
   "id": "f25b8929",
   "metadata": {},
   "outputs": [
    {
     "name": "stdout",
     "output_type": "stream",
     "text": [
      "hello\n",
      "[0.0, 31.5]\n",
      "[0.0, 3073.5]\n",
      "32.0\n",
      "96.0\n",
      "3072\n",
      "0.5\n"
     ]
    }
   ],
   "source": [
    "e = Equation([Term(0,0), Term(3,5)])\n",
    "print(\"hello\")\n",
    "print(e.Integrate(1,2))\n",
    "#print(e.terms)\n",
    "#print(e.Integrate(1,2))\n",
    "print(e.Integrate_Rect(1,2,1))\n",
    "cursed = Term(3,5)\n",
    "print(cursed.integration().evaluate(2))\n",
    "print(cursed.evaluate(2))\n",
    "print(96*32)\n",
    "print(cursed.integration().evaluate(1))"
   ]
  },
  {
   "cell_type": "code",
   "execution_count": null,
   "id": "83fc78f6",
   "metadata": {},
   "outputs": [],
   "source": [
    "#def Intergrate(self, a, b):\n",
    "        #evaluate \n",
    "        '''new_list_1 = [x.integration().evaluate(a) for x in self.list_of_terms]\n",
    "        new_list_2 = [x.integration().evaluate(b) for x in self.list_of_terms]\n",
    "        #new_list_3 = [new_list_2[x]-new_list_1[x] for x in range(len(self.list_of_terms)-1)]\n",
    "        return new_list_1\n",
    "    ''"
   ]
  }
 ],
 "metadata": {
  "kernelspec": {
   "display_name": "Python 3",
   "language": "python",
   "name": "python3"
  },
  "language_info": {
   "codemirror_mode": {
    "name": "ipython",
    "version": 3
   },
   "file_extension": ".py",
   "mimetype": "text/x-python",
   "name": "python",
   "nbconvert_exporter": "python",
   "pygments_lexer": "ipython3",
   "version": "3.8.8"
  }
 },
 "nbformat": 4,
 "nbformat_minor": 5
}
